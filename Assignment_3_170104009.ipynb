{
  "nbformat": 4,
  "nbformat_minor": 0,
  "metadata": {
    "colab": {
      "name": "Sadman.ipynb",
      "provenance": [],
      "collapsed_sections": []
    },
    "kernelspec": {
      "name": "python3",
      "display_name": "Python 3"
    },
    "language_info": {
      "name": "python"
    },
    "accelerator": "GPU"
  },
  "cells": [
    {
      "cell_type": "code",
      "metadata": {
        "colab": {
          "base_uri": "https://localhost:8080/"
        },
        "id": "2Y2c9H6Z9N5Z",
        "outputId": "4bbb425e-6aa0-4ff1-8812-b49c786aa479"
      },
      "source": [
        "!gdown --id 1L7gRzRsyWzQ6jtRg86q81aVfKbREYv2A"
      ],
      "execution_count": 1,
      "outputs": [
        {
          "output_type": "stream",
          "name": "stdout",
          "text": [
            "Downloading...\n",
            "From: https://drive.google.com/uc?id=1L7gRzRsyWzQ6jtRg86q81aVfKbREYv2A\n",
            "To: /content/Dataset 2.csv\n",
            "\r  0% 0.00/999k [00:00<?, ?B/s]\r100% 999k/999k [00:00<00:00, 66.2MB/s]\n"
          ]
        }
      ]
    },
    {
      "cell_type": "code",
      "metadata": {
        "id": "9VJTuILh9UKM"
      },
      "source": [
        "import pandas as pd\n",
        "import torch   \n",
        "\n",
        "#handling text data\n",
        "from torchtext.legacy import data  \n"
      ],
      "execution_count": 2,
      "outputs": []
    },
    {
      "cell_type": "code",
      "metadata": {
        "colab": {
          "base_uri": "https://localhost:8080/",
          "height": 417
        },
        "id": "S419D4DN9gSO",
        "outputId": "cc1ed197-396e-49fd-e561-e4449624cce8"
      },
      "source": [
        "dataset=pd.read_csv('/content/Dataset 1.csv',encoding='ISO-8859-1')\n",
        "dataset"
      ],
      "execution_count": 3,
      "outputs": [
        {
          "output_type": "execute_result",
          "data": {
            "text/html": [
              "<div>\n",
              "<style scoped>\n",
              "    .dataframe tbody tr th:only-of-type {\n",
              "        vertical-align: middle;\n",
              "    }\n",
              "\n",
              "    .dataframe tbody tr th {\n",
              "        vertical-align: top;\n",
              "    }\n",
              "\n",
              "    .dataframe thead th {\n",
              "        text-align: right;\n",
              "    }\n",
              "</style>\n",
              "<table border=\"1\" class=\"dataframe\">\n",
              "  <thead>\n",
              "    <tr style=\"text-align: right;\">\n",
              "      <th></th>\n",
              "      <th>message</th>\n",
              "      <th>label</th>\n",
              "    </tr>\n",
              "  </thead>\n",
              "  <tbody>\n",
              "    <tr>\n",
              "      <th>0</th>\n",
              "      <td>just had a real good moment. i missssssssss hi...</td>\n",
              "      <td>0</td>\n",
              "    </tr>\n",
              "    <tr>\n",
              "      <th>1</th>\n",
              "      <td>is reading manga  http://plurk.com/p/mzp1e</td>\n",
              "      <td>0</td>\n",
              "    </tr>\n",
              "    <tr>\n",
              "      <th>2</th>\n",
              "      <td>@comeagainjen http://twitpic.com/2y2lx - http:...</td>\n",
              "      <td>0</td>\n",
              "    </tr>\n",
              "    <tr>\n",
              "      <th>3</th>\n",
              "      <td>@lapcat Need to send 'em to my accountant tomo...</td>\n",
              "      <td>0</td>\n",
              "    </tr>\n",
              "    <tr>\n",
              "      <th>4</th>\n",
              "      <td>ADD ME ON MYSPACE!!!  myspace.com/LookThunder</td>\n",
              "      <td>0</td>\n",
              "    </tr>\n",
              "    <tr>\n",
              "      <th>...</th>\n",
              "      <td>...</td>\n",
              "      <td>...</td>\n",
              "    </tr>\n",
              "    <tr>\n",
              "      <th>10309</th>\n",
              "      <td>No Depression by G Herbo is my mood from now o...</td>\n",
              "      <td>1</td>\n",
              "    </tr>\n",
              "    <tr>\n",
              "      <th>10310</th>\n",
              "      <td>What do you do when depression succumbs the br...</td>\n",
              "      <td>1</td>\n",
              "    </tr>\n",
              "    <tr>\n",
              "      <th>10311</th>\n",
              "      <td>Ketamine Nasal Spray Shows Promise Against Dep...</td>\n",
              "      <td>1</td>\n",
              "    </tr>\n",
              "    <tr>\n",
              "      <th>10312</th>\n",
              "      <td>dont mistake a bad day with depression! everyo...</td>\n",
              "      <td>1</td>\n",
              "    </tr>\n",
              "    <tr>\n",
              "      <th>10313</th>\n",
              "      <td>0</td>\n",
              "      <td>1</td>\n",
              "    </tr>\n",
              "  </tbody>\n",
              "</table>\n",
              "<p>10314 rows × 2 columns</p>\n",
              "</div>"
            ],
            "text/plain": [
              "                                                 message  label\n",
              "0      just had a real good moment. i missssssssss hi...      0\n",
              "1             is reading manga  http://plurk.com/p/mzp1e      0\n",
              "2      @comeagainjen http://twitpic.com/2y2lx - http:...      0\n",
              "3      @lapcat Need to send 'em to my accountant tomo...      0\n",
              "4          ADD ME ON MYSPACE!!!  myspace.com/LookThunder      0\n",
              "...                                                  ...    ...\n",
              "10309  No Depression by G Herbo is my mood from now o...      1\n",
              "10310  What do you do when depression succumbs the br...      1\n",
              "10311  Ketamine Nasal Spray Shows Promise Against Dep...      1\n",
              "10312  dont mistake a bad day with depression! everyo...      1\n",
              "10313                                                  0      1\n",
              "\n",
              "[10314 rows x 2 columns]"
            ]
          },
          "metadata": {},
          "execution_count": 3
        }
      ]
    },
    {
      "cell_type": "code",
      "metadata": {
        "id": "7gBiUXQd9UM1"
      },
      "source": [
        "# import re\n",
        "# def remove(text):\n",
        "#     return re.sub(r\"[,.\\\"!@#$%^&*(){}?/;`~:<>+=-]\", \"\", text)"
      ],
      "execution_count": 4,
      "outputs": []
    },
    {
      "cell_type": "code",
      "metadata": {
        "id": "S8VJIn-p9UQO"
      },
      "source": [
        "# dataset['tweets'] = dataset['tweets'].apply(lambda x: remove(x))\n"
      ],
      "execution_count": 5,
      "outputs": []
    },
    {
      "cell_type": "code",
      "metadata": {
        "id": "29mWz69Y9UTl"
      },
      "source": [
        "dataset.drop(10313,inplace=True)"
      ],
      "execution_count": 6,
      "outputs": []
    },
    {
      "cell_type": "code",
      "metadata": {
        "id": "lDDW7XdT9UZA"
      },
      "source": [
        "dataset = dataset.sample(frac=1).reset_index(drop=True)\n",
        "dataset.to_csv('data.csv',index=False)"
      ],
      "execution_count": 7,
      "outputs": []
    },
    {
      "cell_type": "code",
      "metadata": {
        "id": "4RUbkgvr99an"
      },
      "source": [
        "import tensorflow as tf\n",
        "from tensorflow.keras.layers import Embedding\n",
        "from tensorflow.keras.preprocessing.sequence import pad_sequences\n",
        "from tensorflow.keras.models import Sequential\n",
        "from tensorflow.keras.preprocessing.text import one_hot\n",
        "from tensorflow.keras.layers import LSTM\n",
        "\n",
        "from tensorflow.keras.layers import Dense"
      ],
      "execution_count": 8,
      "outputs": []
    },
    {
      "cell_type": "code",
      "metadata": {
        "id": "sAYuA2Cq-DUF"
      },
      "source": [
        "voc_size=5000\n",
        "import nltk\n",
        "import re\n",
        "from nltk.corpus import stopwords"
      ],
      "execution_count": 9,
      "outputs": []
    },
    {
      "cell_type": "code",
      "metadata": {
        "colab": {
          "base_uri": "https://localhost:8080/"
        },
        "id": "7vP3Ud_a-Gyt",
        "outputId": "ffeeccea-9862-45ba-e2cc-b91361a56698"
      },
      "source": [
        "import nltk\n",
        "nltk.download('stopwords')\n",
        "from nltk.corpus import stopwords\n",
        "STOPWORDS = set(stopwords.words('english'))"
      ],
      "execution_count": 10,
      "outputs": [
        {
          "output_type": "stream",
          "name": "stdout",
          "text": [
            "[nltk_data] Downloading package stopwords to /root/nltk_data...\n",
            "[nltk_data]   Unzipping corpora/stopwords.zip.\n"
          ]
        }
      ]
    },
    {
      "cell_type": "code",
      "metadata": {
        "id": "hJG131LD-Hh9"
      },
      "source": [
        "from nltk.stem.porter import PorterStemmer\n",
        "ps = PorterStemmer()\n",
        "corpus = []\n",
        "for i in range(0, len(dataset)):\n",
        "    \n",
        "    review = re.sub('[^a-zA-Z]', ' ', dataset['message'][i])\n",
        "    review = review.lower()\n",
        "    review = review.split()\n",
        "    \n",
        "    review = [ps.stem(word) for word in review if not word in stopwords.words('english')]\n",
        "    review = ' '.join(review)\n",
        "    corpus.append(review)"
      ],
      "execution_count": 12,
      "outputs": []
    },
    {
      "cell_type": "code",
      "metadata": {
        "id": "yfnVVx7d-Hk2"
      },
      "source": [
        "onehot_repr=[one_hot(words,voc_size)for words in corpus] "
      ],
      "execution_count": 13,
      "outputs": []
    },
    {
      "cell_type": "code",
      "metadata": {
        "colab": {
          "base_uri": "https://localhost:8080/"
        },
        "id": "w-JWDDBR-HrP",
        "outputId": "e1296a83-c59c-4ef7-fca1-f050f6ad0da6"
      },
      "source": [
        "sent_length=40\n",
        "embedded_docs=pad_sequences(onehot_repr,padding='post',maxlen=sent_length)\n",
        "print(embedded_docs)"
      ],
      "execution_count": 14,
      "outputs": [
        {
          "output_type": "stream",
          "name": "stdout",
          "text": [
            "[[2043  154  207 ...    0    0    0]\n",
            " [4120 4726 4463 ...    0    0    0]\n",
            " [4039  134 4311 ...    0    0    0]\n",
            " ...\n",
            " [ 583 2526 4437 ...    0    0    0]\n",
            " [3039 3895 3779 ...    0    0    0]\n",
            " [1531 4931 1354 ...    0    0    0]]\n"
          ]
        }
      ]
    },
    {
      "cell_type": "code",
      "metadata": {
        "colab": {
          "base_uri": "https://localhost:8080/"
        },
        "id": "KCtlwNq5LnU-",
        "outputId": "13c3741d-100d-4cf2-abe7-790b7d2bc58f"
      },
      "source": [
        "from keras.layers import Dense\n",
        "from keras.layers import Flatten\n",
        "from keras.layers import Embedding\n",
        "from keras.layers.convolutional import Conv1D\n",
        "from keras.layers.convolutional import MaxPooling1D\n",
        "\n",
        "# define model\n",
        "model2 = Sequential()\n",
        "model2.add(Embedding(voc_size,40,input_length=sent_length))\n",
        "model2.add(Conv1D(filters=32, kernel_size=8, activation='relu'))\n",
        "model2.add(MaxPooling1D(pool_size=2))\n",
        "model2.add(Conv1D(filters=32, kernel_size=4, activation='relu'))\n",
        "model2.add(MaxPooling1D(pool_size=2))\n",
        "model2.add(Conv1D(filters=32, kernel_size=1, activation='relu'))\n",
        "model2.add(MaxPooling1D(pool_size=1))\n",
        "model2.add(Flatten())\n",
        "model2.add(Dense(10, activation='relu'))\n",
        "model2.add(Dense(1, activation='sigmoid'))\n",
        "print(model2.summary())\n",
        "# compile network\n",
        "model2.compile(loss='binary_crossentropy', optimizer='adam', metrics=['accuracy'])"
      ],
      "execution_count": 15,
      "outputs": [
        {
          "output_type": "stream",
          "name": "stdout",
          "text": [
            "Model: \"sequential\"\n",
            "_________________________________________________________________\n",
            "Layer (type)                 Output Shape              Param #   \n",
            "=================================================================\n",
            "embedding (Embedding)        (None, 40, 40)            200000    \n",
            "_________________________________________________________________\n",
            "conv1d (Conv1D)              (None, 33, 32)            10272     \n",
            "_________________________________________________________________\n",
            "max_pooling1d (MaxPooling1D) (None, 16, 32)            0         \n",
            "_________________________________________________________________\n",
            "conv1d_1 (Conv1D)            (None, 13, 32)            4128      \n",
            "_________________________________________________________________\n",
            "max_pooling1d_1 (MaxPooling1 (None, 6, 32)             0         \n",
            "_________________________________________________________________\n",
            "conv1d_2 (Conv1D)            (None, 6, 32)             1056      \n",
            "_________________________________________________________________\n",
            "max_pooling1d_2 (MaxPooling1 (None, 6, 32)             0         \n",
            "_________________________________________________________________\n",
            "flatten (Flatten)            (None, 192)               0         \n",
            "_________________________________________________________________\n",
            "dense (Dense)                (None, 10)                1930      \n",
            "_________________________________________________________________\n",
            "dense_1 (Dense)              (None, 1)                 11        \n",
            "=================================================================\n",
            "Total params: 217,397\n",
            "Trainable params: 217,397\n",
            "Non-trainable params: 0\n",
            "_________________________________________________________________\n",
            "None\n"
          ]
        }
      ]
    },
    {
      "cell_type": "code",
      "metadata": {
        "id": "75oL1Lsh-NzV"
      },
      "source": [
        "# ## Creating model\n",
        "# embedding_vector_features=40\n",
        "# model=Sequential()\n",
        "# model.add(Embedding(voc_size,embedding_vector_features,input_length=sent_length))\n",
        "# model.add(LSTM(32,return_sequences=True,input_shape=(3,1)))\n",
        "# model.add(LSTM(16))\n",
        "# model.add(Dense(1,activation='sigmoid'))\n",
        "# model.compile(loss='binary_crossentropy',optimizer='adam',metrics=['accuracy'])\n",
        "# print(model.summary())"
      ],
      "execution_count": 16,
      "outputs": []
    },
    {
      "cell_type": "code",
      "metadata": {
        "id": "sESIzH9F-QDI"
      },
      "source": [
        "import numpy as np\n",
        "X_final=np.array(embedded_docs)\n",
        "y_final=np.array(dataset.label)"
      ],
      "execution_count": 18,
      "outputs": []
    },
    {
      "cell_type": "code",
      "metadata": {
        "colab": {
          "base_uri": "https://localhost:8080/"
        },
        "id": "o-OnhCDnCypp",
        "outputId": "ea4c412c-9fbd-4e66-cdb6-8b1b37547750"
      },
      "source": [
        "y_final"
      ],
      "execution_count": 19,
      "outputs": [
        {
          "output_type": "execute_result",
          "data": {
            "text/plain": [
              "array([0, 0, 0, ..., 1, 0, 1])"
            ]
          },
          "metadata": {},
          "execution_count": 19
        }
      ]
    },
    {
      "cell_type": "code",
      "metadata": {
        "id": "sAN7Kafv-QGP"
      },
      "source": [
        "from sklearn.model_selection import train_test_split\n",
        "X_train, X_test, y_train, y_test = train_test_split(X_final, y_final, test_size=0.2,random_state=42)"
      ],
      "execution_count": 20,
      "outputs": []
    },
    {
      "cell_type": "code",
      "metadata": {
        "colab": {
          "base_uri": "https://localhost:8080/"
        },
        "id": "Usm7W1Xt-UYx",
        "outputId": "8914d462-d554-4b94-8cf7-abf626515c93"
      },
      "source": [
        "history=model2.fit(X_train,y_train,validation_data=(X_test,y_test),epochs=10,batch_size=64)"
      ],
      "execution_count": 23,
      "outputs": [
        {
          "output_type": "stream",
          "name": "stdout",
          "text": [
            "Epoch 1/10\n",
            "129/129 [==============================] - 1s 9ms/step - loss: 0.0019 - accuracy: 0.9993 - val_loss: 0.0417 - val_accuracy: 0.9918\n",
            "Epoch 2/10\n",
            "129/129 [==============================] - 1s 8ms/step - loss: 0.0016 - accuracy: 0.9993 - val_loss: 0.0325 - val_accuracy: 0.9932\n",
            "Epoch 3/10\n",
            "129/129 [==============================] - 1s 8ms/step - loss: 9.6380e-04 - accuracy: 0.9992 - val_loss: 0.0363 - val_accuracy: 0.9932\n",
            "Epoch 4/10\n",
            "129/129 [==============================] - 1s 8ms/step - loss: 7.5628e-04 - accuracy: 0.9998 - val_loss: 0.0443 - val_accuracy: 0.9927\n",
            "Epoch 5/10\n",
            "129/129 [==============================] - 1s 8ms/step - loss: 7.3827e-04 - accuracy: 0.9996 - val_loss: 0.0445 - val_accuracy: 0.9927\n",
            "Epoch 6/10\n",
            "129/129 [==============================] - 1s 8ms/step - loss: 6.1709e-04 - accuracy: 0.9998 - val_loss: 0.0412 - val_accuracy: 0.9913\n",
            "Epoch 7/10\n",
            "129/129 [==============================] - 1s 8ms/step - loss: 6.6204e-04 - accuracy: 0.9998 - val_loss: 0.0526 - val_accuracy: 0.9918\n",
            "Epoch 8/10\n",
            "129/129 [==============================] - 1s 8ms/step - loss: 6.1250e-04 - accuracy: 0.9998 - val_loss: 0.0428 - val_accuracy: 0.9918\n",
            "Epoch 9/10\n",
            "129/129 [==============================] - 1s 8ms/step - loss: 6.8759e-04 - accuracy: 0.9998 - val_loss: 0.0466 - val_accuracy: 0.9918\n",
            "Epoch 10/10\n",
            "129/129 [==============================] - 1s 8ms/step - loss: 8.8335e-04 - accuracy: 0.9996 - val_loss: 0.0495 - val_accuracy: 0.9898\n"
          ]
        }
      ]
    },
    {
      "cell_type": "code",
      "metadata": {
        "colab": {
          "base_uri": "https://localhost:8080/",
          "height": 573
        },
        "id": "M6eGlZaF-YVJ",
        "outputId": "ba25cec9-ffc3-419e-fdef-4a6c25d0b8ce"
      },
      "source": [
        "import matplotlib.pyplot as plt\n",
        "plt.plot(history.history['accuracy'])\n",
        "plt.plot(history.history['val_accuracy'])\n",
        "plt.title('model accuracy')\n",
        "plt.ylabel('accuracy')\n",
        "plt.xlabel('epoch')\n",
        "plt.legend(['train', 'test'], loc='upper left')\n",
        "plt.show()\n",
        "# summarize history for loss\n",
        "plt.plot(history.history['loss'])\n",
        "plt.plot(history.history['val_loss'])\n",
        "plt.title('model loss')\n",
        "plt.ylabel('loss')\n",
        "plt.xlabel('epoch')\n",
        "plt.legend(['train', 'test'], loc='upper left')\n",
        "plt.show()"
      ],
      "execution_count": 24,
      "outputs": [
        {
          "output_type": "display_data",
          "data": {
            "image/png": "[encoded data removed]",
            "text/plain": [
              "<Figure size 432x288 with 1 Axes>"
            ]
          },
          "metadata": {
            "needs_background": "light"
          }
        },
        {
          "output_type": "display_data",
          "data": {
            "image/png": "[encoded data removed]",
            "text/plain": [
              "<Figure size 432x288 with 1 Axes>"
            ]
          },
          "metadata": {
            "needs_background": "light"
          }
        }
      ]
    },
    {
      "cell_type": "code",
      "metadata": {
        "id": "isa8fQyAF1aL",
        "colab": {
          "base_uri": "https://localhost:8080/",
          "height": 450
        },
        "outputId": "2f1c8925-f2d6-4e0b-e0c3-05c4a24ad5d7"
      },
      "source": [
        "from sklearn.metrics import confusion_matrix\n",
        "from sklearn.metrics import classification_report\n",
        "y_pred=model2.predict(X_test) \n",
        "y_pred = (y_pred > 0.5)\n",
        "\n",
        "conf=confusion_matrix(y_test,y_pred)\n",
        "\n",
        "print(conf)\n",
        "\n",
        "import seaborn as sn\n",
        "\n",
        "\n",
        "sn.heatmap(conf, cmap=\"Blues\", annot=True)# font size\n",
        "conf\n",
        "\n",
        "evaluation=classification_report(y_test,y_pred)\n",
        "print(evaluation)"
      ],
      "execution_count": 26,
      "outputs": [
        {
          "output_type": "stream",
          "name": "stdout",
          "text": [
            "[[1573    7]\n",
            " [  14  469]]\n",
            "              precision    recall  f1-score   support\n",
            "\n",
            "           0       0.99      1.00      0.99      1580\n",
            "           1       0.99      0.97      0.98       483\n",
            "\n",
            "    accuracy                           0.99      2063\n",
            "   macro avg       0.99      0.98      0.99      2063\n",
            "weighted avg       0.99      0.99      0.99      2063\n",
            "\n"
          ]
        },
        {
          "output_type": "display_data",
          "data": {
            "image/png": "[encoded data removed]",
            "text/plain": [
              "<Figure size 432x288 with 2 Axes>"
            ]
          },
          "metadata": {
            "needs_background": "light"
          }
        }
      ]
    },
    {
      "cell_type": "code",
      "metadata": {
        "id": "NxF87ZFcFUUn"
      },
      "source": [
        "\n"
      ],
      "execution_count": 25,
      "outputs": []
    }
  ]
}